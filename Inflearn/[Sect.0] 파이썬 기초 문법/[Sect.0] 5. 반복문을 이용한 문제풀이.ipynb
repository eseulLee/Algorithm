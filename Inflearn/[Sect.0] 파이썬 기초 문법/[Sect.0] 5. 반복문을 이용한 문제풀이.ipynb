{
 "cells": [
  {
   "cell_type": "markdown",
   "id": "f2178908",
   "metadata": {},
   "source": [
    "### 1. 1부터 N까지 홀수 출력하기"
   ]
  },
  {
   "cell_type": "code",
   "execution_count": 1,
   "id": "2e7799e6",
   "metadata": {},
   "outputs": [
    {
     "name": "stdout",
     "output_type": "stream",
     "text": [
      "5\n",
      "1 3 5 "
     ]
    }
   ],
   "source": [
    "N = int(input())\n",
    "\n",
    "for i in range(1, N+1):\n",
    "    if i % 2 != 0:\n",
    "        print(i, end=' ')"
   ]
  },
  {
   "cell_type": "markdown",
   "id": "f5449509",
   "metadata": {},
   "source": [
    "### 2. 1부터 N까지 합 구하기"
   ]
  },
  {
   "cell_type": "code",
   "execution_count": 5,
   "id": "9267f185",
   "metadata": {},
   "outputs": [
    {
     "name": "stdout",
     "output_type": "stream",
     "text": [
      "10\n",
      "55\n"
     ]
    }
   ],
   "source": [
    "N = int(input())\n",
    "\n",
    "print(sum(list(range(1, N+1))))"
   ]
  },
  {
   "cell_type": "code",
   "execution_count": 3,
   "id": "683173e5",
   "metadata": {},
   "outputs": [
    {
     "name": "stdout",
     "output_type": "stream",
     "text": [
      "10\n",
      "55\n"
     ]
    }
   ],
   "source": [
    "# 2-1.\n",
    "\n",
    "N = int(input())\n",
    "\n",
    "sum_ = 0\n",
    "for i in range(1, N+1):\n",
    "    sum_ += i\n",
    "print(sum_)"
   ]
  },
  {
   "cell_type": "markdown",
   "id": "c3bc30e4",
   "metadata": {},
   "source": [
    "### 3. N의 약수 출력하기"
   ]
  },
  {
   "cell_type": "code",
   "execution_count": 4,
   "id": "005b5296",
   "metadata": {},
   "outputs": [
    {
     "name": "stdout",
     "output_type": "stream",
     "text": [
      "20\n",
      "1 2 4 5 10 20 "
     ]
    }
   ],
   "source": [
    "N = int(input())\n",
    "\n",
    "for i in range(1, N+1):\n",
    "    if N % i == 0:\n",
    "        print(i, end=' ')"
   ]
  }
 ],
 "metadata": {
  "kernelspec": {
   "display_name": "eseul_pycaret",
   "language": "python",
   "name": "pycaret"
  },
  "language_info": {
   "codemirror_mode": {
    "name": "ipython",
    "version": 3
   },
   "file_extension": ".py",
   "mimetype": "text/x-python",
   "name": "python",
   "nbconvert_exporter": "python",
   "pygments_lexer": "ipython3",
   "version": "3.8.13"
  }
 },
 "nbformat": 4,
 "nbformat_minor": 5
}

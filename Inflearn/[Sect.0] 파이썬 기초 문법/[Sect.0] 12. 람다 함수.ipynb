{
 "cells": [
  {
   "cell_type": "code",
   "execution_count": 2,
   "id": "7a8f3cc1",
   "metadata": {},
   "outputs": [
    {
     "name": "stdout",
     "output_type": "stream",
     "text": [
      "2\n"
     ]
    }
   ],
   "source": [
    "def plus_one(x):\n",
    "    return x+1\n",
    "\n",
    "print(plus_one(1))"
   ]
  },
  {
   "cell_type": "markdown",
   "id": "0afd1d4f",
   "metadata": {},
   "source": [
    "위의 plus_one은 함수명, 아래의 plus_two는 변수명"
   ]
  },
  {
   "cell_type": "code",
   "execution_count": 3,
   "id": "3fc51ddf",
   "metadata": {},
   "outputs": [
    {
     "name": "stdout",
     "output_type": "stream",
     "text": [
      "3\n"
     ]
    }
   ],
   "source": [
    "plus_two = lambda x: x+2\n",
    "\n",
    "print(plus_two(1))"
   ]
  },
  {
   "cell_type": "markdown",
   "id": "af914d6f",
   "metadata": {},
   "source": [
    "내장함수의 인자로 사용될 때 효과적!"
   ]
  },
  {
   "cell_type": "code",
   "execution_count": 4,
   "id": "8437b498",
   "metadata": {},
   "outputs": [
    {
     "name": "stdout",
     "output_type": "stream",
     "text": [
      "[2, 3, 4]\n"
     ]
    }
   ],
   "source": [
    "a = [1, 2, 3]\n",
    "\n",
    "print(list(map(plus_one, a)))"
   ]
  },
  {
   "cell_type": "markdown",
   "id": "94a65704",
   "metadata": {},
   "source": [
    "똑같은 출력결과를 람다로 표현해보기!"
   ]
  },
  {
   "cell_type": "code",
   "execution_count": 5,
   "id": "1705a045",
   "metadata": {},
   "outputs": [
    {
     "name": "stdout",
     "output_type": "stream",
     "text": [
      "[2, 3, 4]\n"
     ]
    }
   ],
   "source": [
    "a = [1, 2, 3]\n",
    "\n",
    "print(list(map(lambda x: x+1, a)))"
   ]
  },
  {
   "cell_type": "markdown",
   "id": "4e989ebc",
   "metadata": {},
   "source": [
    "sort 함수의 인자로 lambda 표현식 사용하기도 함"
   ]
  }
 ],
 "metadata": {
  "kernelspec": {
   "display_name": "eseul_pycaret",
   "language": "python",
   "name": "pycaret"
  },
  "language_info": {
   "codemirror_mode": {
    "name": "ipython",
    "version": 3
   },
   "file_extension": ".py",
   "mimetype": "text/x-python",
   "name": "python",
   "nbconvert_exporter": "python",
   "pygments_lexer": "ipython3",
   "version": "3.8.13"
  }
 },
 "nbformat": 4,
 "nbformat_minor": 5
}
